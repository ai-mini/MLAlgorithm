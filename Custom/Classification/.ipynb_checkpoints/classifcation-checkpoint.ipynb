{
 "cells": [
  {
   "cell_type": "markdown",
   "metadata": {},
   "source": [
    "## Classification: Instant Recognition With Caffe\n",
    "In this example we'll classify an image with the bundled CaffeNet model (which is based on the network architecture of Krizhevsky et al. for ImageNet).\n",
    "\n",
    "We'll compare CPU and GPU modes and then dig into the model to inspect features and the output."
   ]
  },
  {
   "cell_type": "markdown",
   "metadata": {},
   "source": [
    "### 1. Setup\n",
    "- First, set up Python, numpy and matplotlib"
   ]
  },
  {
   "cell_type": "code",
   "execution_count": 1,
   "metadata": {
    "collapsed": true
   },
   "outputs": [],
   "source": [
    "# set up Python Enviornment: numpy for numerical routines and matplotlin for plotting\n",
    "\n",
    "import numpy as np \n",
    "import matplotlib.pyplot as plt \n",
    "# display plot in this notebook\n",
    "%matplotlib inline \n",
    "\n",
    "#set display defaults \n",
    "# large images \n",
    "plt.rcParams['figure.figsize'] = (10,10) \n",
    "# don't  interplolate: show square pixels \n",
    "plt.rcParams['image.interpolation'] = 'nearest' \n",
    "# use grayscale output rather than a (potenstially misleading) color heatmap\n",
    "plt.rcParams['image.cmap'] = 'gray'\n"
   ]
  },
  {
   "cell_type": "markdown",
   "metadata": {},
   "source": [
    "- Load Caffe"
   ]
  },
  {
   "cell_type": "code",
   "execution_count": 14,
   "metadata": {
    "collapsed": true
   },
   "outputs": [],
   "source": [
    "# The caffe module needs to be on the Python path;\n",
    "# we'll add it here explicitly \n",
    "import sys \n",
    "# this file should be run from {caffe_root}/examples (otherwise change this line)\n",
    "caffe_root = '/home/amanullahtariq/caffe/'\n",
    "sys.path.insert(0,caffe_root + 'python')\n",
    "\n",
    "# If you get \"No module named _caffe\", either you have not built pycaffe or you have the wrong path.\n",
    "import caffe"
   ]
  },
  {
   "cell_type": "markdown",
   "metadata": {},
   "source": [
    "- If needed, download the reference model (\"CaffeNet\", a variant of AlexNet)."
   ]
  },
  {
   "cell_type": "code",
   "execution_count": 15,
   "metadata": {},
   "outputs": [
    {
     "name": "stdout",
     "output_type": "stream",
     "text": [
      "CaffeNet found.\n"
     ]
    }
   ],
   "source": [
    "import os\n",
    "if os.path.isfile(caffe_root + 'models/bvlc_reference_caffenet/bvlc_reference_caffenet.caffemodel'):\n",
    "    print 'CaffeNet found.'\n",
    "else:\n",
    "    print 'Downloading pre-trained CaffeNet model...'\n",
    "    !/home/amanullahtariq/caffe/scripts/download_model_binary.py /home/amanullahtariq/caffe/models/bvlc_reference_caffenet"
   ]
  },
  {
   "cell_type": "markdown",
   "metadata": {},
   "source": [
    "### 2. Load net and set up input preprocessing\n",
    "- Set Caffe to CPU mode and load the net from disk"
   ]
  },
  {
   "cell_type": "code",
   "execution_count": 18,
   "metadata": {},
   "outputs": [],
   "source": [
    "caffe.set_mode_cpu()\n",
    "\n",
    "model_def = caffe_root + 'models/bvlc_reference_caffenet/deploy.prototxt'\n",
    "model_weights = caffe_root + 'models/bvlc_reference_caffenet/bvlc_reference_caffenet.caffemodel'\n",
    "\n",
    "net = caffe.Net(model_def, # defines the structure of the model\n",
    "               model_weights, # contains the trained weights\n",
    "               caffe.TEST) # use test mode (e.g. don't perform dropout)"
   ]
  },
  {
   "cell_type": "markdown",
   "metadata": {},
   "source": [
    "- Set up input preprocessing. (We'll use Caffe's caffe.io. Transformer to do this, but this step is independent of other parts of caffe, so any custom preprocessing code may be used).\n",
    "\n",
    "- Our default CaffeNet is configured to take images in BGR format. Values are expected to start in the range[0, 255] and then have the mean ImageNet pixel value subtracted from them. In addition, the channel dimension is expected as the first (outermost) dimension. \n",
    "\n",
    "- As matlplotlib will load images with the values in the range [0,1] in RGB format with the channel as the innermost dimension, we are arranging for the need transformations here. "
   ]
  },
  {
   "cell_type": "code",
   "execution_count": 35,
   "metadata": {},
   "outputs": [
    {
     "name": "stdout",
     "output_type": "stream",
     "text": [
      "('mean-subtracted values: ', [('B', 104.0069879317889), ('G', 116.66876761696767), ('R', 122.6789143406786)])\n",
      "<caffe.io.Transformer instance at 0x7f49315593b0>\n"
     ]
    }
   ],
   "source": [
    "# load the mean ImageNet image (as distributed with Caffe) for subtraction\n",
    "mu = np.load(caffe_root + 'python/caffe/imagenet/ilsvrc_2012_mean.npy')\n",
    "mu = mu.mean(1).mean(1) # average over pixels to obtain the mean BGR pixel values \n",
    "print ('mean-subtracted values: ', zip('BGR', mu))\n",
    "\n",
    "# create transformer for the input called 'data'\n",
    "transformer = caffe.io.Transformer({'data': net.blobs['data'].data.shape})\n",
    "\n",
    "# move image channel to outermost dimension\n",
    "transformer.set_transpose('data', (2,0,1))\n",
    "# subtract the dataset-mean value in each element\n",
    "transformer.set_mean('data',mu)\n",
    "# rescale from [0,1] to [0, 255]\n",
    "transformer.set_raw_scale('data',255)\n",
    "#swap channels from RGB to BGR\n",
    "transformer.set_channel_swap('data', (2,1,0))"
   ]
  },
  {
   "cell_type": "markdown",
   "metadata": {},
   "source": [
    "## Reference\n",
    "- Classification: Instant Recognition with Caffe (http://nbviewer.jupyter.org/github/BVLC/caffe/blob/master/examples/00-classification.ipynb)"
   ]
  }
 ],
 "metadata": {
  "kernelspec": {
   "display_name": "Python 2",
   "language": "python",
   "name": "python2"
  },
  "language_info": {
   "codemirror_mode": {
    "name": "ipython",
    "version": 2
   },
   "file_extension": ".py",
   "mimetype": "text/x-python",
   "name": "python",
   "nbconvert_exporter": "python",
   "pygments_lexer": "ipython2",
   "version": "2.7.13"
  }
 },
 "nbformat": 4,
 "nbformat_minor": 2
}
