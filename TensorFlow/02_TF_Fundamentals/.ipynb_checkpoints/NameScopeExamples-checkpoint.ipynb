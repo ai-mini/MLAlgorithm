{
 "cells": [
  {
   "cell_type": "markdown",
   "metadata": {},
   "source": [
    "## TensorFlow Fundamentals - Name Scope Examples"
   ]
  },
  {
   "cell_type": "code",
   "execution_count": 2,
   "metadata": {
    "collapsed": true
   },
   "outputs": [],
   "source": [
    "#import libraries\n",
    "import tensorflow as tf"
   ]
  },
  {
   "cell_type": "code",
   "execution_count": 5,
   "metadata": {
    "collapsed": true
   },
   "outputs": [],
   "source": [
    "with tf.name_scope(\"Scope_A\"):\n",
    "    a = tf.add(1, 2, name=\"A_add\")\n",
    "    b = tf.multiply(a, 3, name=\"A_mul\")\n",
    "\n",
    "with tf.name_scope(\"Scope_B\"):\n",
    "    c = tf.add(4, 5, name=\"B_add\")\n",
    "    d = tf.multiply(c,6, name=\"B_mul\")\n",
    "\n",
    "e = tf.add(b,d, name=\"output\")"
   ]
  },
  {
   "cell_type": "code",
   "execution_count": 13,
   "metadata": {
    "collapsed": true
   },
   "outputs": [],
   "source": [
    "writer = tf.summary.FileWriter('./name_scope_1', graph=tf.get_default_graph())\n",
    "writer.close()"
   ]
  },
  {
   "cell_type": "code",
   "execution_count": 6,
   "metadata": {},
   "outputs": [],
   "source": [
    "graph = tf.Graph()\n",
    "\n",
    "with graph.as_default():\n",
    "    \n",
    "    in_1 = tf.placeholder(tf.float32, shape=[], name=\"input_a\")\n",
    "    in_2 = tf.placeholder(tf.float32, shape=[], name=\"input_b\")\n",
    "    const = tf.constant(3, dtype=tf.float32, name=\"static_value\")\n",
    "    \n",
    "    with tf.name_scope(\"A\"):\n",
    "        A_mul = tf.multiply(in_1, const)\n",
    "        A_out = tf.subtract(A_mul, in_1)\n",
    "    \n",
    "    with tf.name_scope(\"B\"):\n",
    "        B_mul = tf.multiply(in_2, const)\n",
    "        B_out = tf.subtract(B_mul, in_2)\n",
    "    \n",
    "    with tf.name_scope(\"C\"):\n",
    "        C_div = tf.div(A_out, B_out)\n",
    "        C_out = tf.add(A_mul, in_1)\n",
    "    \n",
    "    with tf.name_scope(\"D\"):\n",
    "        D_div = tf.div(B_out, A_out)\n",
    "        D_out = tf.add(D_div, const)\n",
    "        \n",
    "    out = tf.maximum(C_out, D_out)\n",
    "    \n",
    "writer = tf.summary.FileWriter('./name_scope_2', graph=graph)\n",
    "writer.close()\n"
   ]
  }
 ],
 "metadata": {
  "kernelspec": {
   "display_name": "Python 2",
   "language": "python",
   "name": "python2"
  },
  "language_info": {
   "codemirror_mode": {
    "name": "ipython",
    "version": 2
   },
   "file_extension": ".py",
   "mimetype": "text/x-python",
   "name": "python",
   "nbconvert_exporter": "python",
   "pygments_lexer": "ipython2",
   "version": "2.7.13"
  }
 },
 "nbformat": 4,
 "nbformat_minor": 2
}
