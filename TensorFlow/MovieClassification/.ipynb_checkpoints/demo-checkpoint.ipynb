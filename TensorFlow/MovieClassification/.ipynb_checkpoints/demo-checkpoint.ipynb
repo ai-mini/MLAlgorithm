{
 "cells": [
  {
   "cell_type": "markdown",
   "metadata": {},
   "source": [
    "# Multi-Modal Genre Classification for Movies\n",
    "### Given:\n",
    "- A data point  xixi \n",
    "- A set of categories  y1,y2...yny1,y2...yn  that  xixi  can belong to. \n",
    "\n",
    "### Task :\n",
    "Predict the correct category **yk**  for a new data point  **xk**  not present in the given dataset.\n",
    "### Problem :\n",
    "We don't know how the  **x**  and  **y**  are related mathematically.\n",
    "### Assumption :\n",
    "We assume there exists a function  ff  relating  xx  and  yy  i.e.  f(xi)=yif(xi)=yi \n",
    "### Approach :\n",
    "Since  ff  is not known, we learn a function  gg , which approximates  ff .\n",
    "### Important consideration :\n",
    "- If  **f(xi)=g(xi)=y**  for all  **xi** , then the two functions  **f** and  **g**  are exactly equal. Needless to say, this won't realistically ever happen, and we'll only be able to approximate the true function  **f**  using  **g** . This means, sometimes the prediction **g(xi)**  will not be correct. And essentially, our whole goal is to find a  **g**  which makes a really low number of such errors. That's basically all that we're trying to do.\n",
    "- For the sake of completeness, I should mention that this is a specific kind of learning problem which we call \"Supervised Learning\". Also, the idea that  gg  approximates  ff  well for data not present in our dataset is called \"Generalization\". It is absolutely paramount that our model generalizes, or else all our claims will only be true about data we already have and our predictions will not be correct.\n",
    "- Finally, There are several other kinds, but supervised learning is the most popular and well studied kind.\n",
    "\n"
   ]
  },
  {
   "cell_type": "markdown",
   "metadata": {},
   "source": [
    "### What's Multi-Modal Classification then?\n",
    "In the machine learning community, the term Multi-Modal is used to refer to multiple kinds of data. For example, consider a YouTube video. It can be thought to contain 3 different modalities -\n",
    "The video frames (visual modality)\n",
    "The audio clip of what's being spoken (audio modality)\n",
    "Some videos also come with the transcription of the words spoken in the form of subtitles (textual modality)\n",
    "Consider, that I'm interested in classifying a song on YouTube as pop or rock. You can use any of the above 3 modalities to predict the genre - The video, the song itself, or the lyrics. But, needless to say, you can predict it much better if you could use all three simultaneously. This is what we mean by multi-modal classification."
   ]
  },
  {
   "cell_type": "markdown",
   "metadata": {},
   "source": [
    "##  Building your very own DataSet\n",
    "For any machine learning algorithm to work, it is imperative that we collect data which is \"representative\". \n",
    "\n",
    "### What do we mean by data being \"representative\"?\n",
    "Let's look at this from first principles. Mathematically, the premise of machine learning is that given input vairable X, and output variable y, **IF** there is a funcation such that **g(X)=y**, then if **g** is unknown, we can \"learn\" a fun For example, if you're trying to predict someone's movie preferences then X can be information about the person's gender, age, nationality and so on, while y can be the genre they most like to listen to!ction **f** which approximates **g**. At the very heart, its not at all different from what you may have earlier studied as \"curve fitting\". For example, if you're trying to predict someone's movie preferences then X can be information about the person's gender, age, nationality and so on, while y can be the genre they most like to listen to!\n"
   ]
  },
  {
   "cell_type": "markdown",
   "metadata": {},
   "source": [
    "### Scraping data from 2 different movie sources - IMDB and TMDB\n",
    "\n",
    "#### IMDB:http://www.imdb.com/\n",
    "For those unaware, IMDB is the primary source of information about movies on the internet. It is immensely rich with posters, reviews, synopsis, ratings and many other information on every movie. We will use this as our primary data source.\n",
    "#### TMDB:https://www.themoviedb.org/\n",
    "TMDB, or The Movie DataBase, is an open source version of IMDB, with a free to use API that can be used to collect information. You do need an API key, but it can be obtained for free by just making a request after making a free account.\n",
    "#### Note -\n",
    "IMDB gives some information for free through the API, but doesn't release other information about movies. Here, we will keep it legal and only use information given to us for free and legally. However, scraping does reside on the moral fence, so to say. People often scrape data which isn't exactly publicly available for use from websites.\n"
   ]
  },
  {
   "cell_type": "code",
   "execution_count": 2,
   "metadata": {
    "collapsed": true
   },
   "outputs": [],
   "source": [
    "import urllib2 \n",
    "import requests \n",
    "import json\n",
    "import imdb\n",
    "import time\n",
    "import itertools\n",
    "import wget\n",
    "import os\n",
    "import tmdbsimple as tmdb\n",
    "import numpy as np \n",
    "import random\n",
    "import matplotlib\n",
    "import matplotlib.pyplot as plt \n",
    "%matplotlib inline \n",
    "import seaborn as sns\n",
    "import pickle "
   ]
  },
  {
   "cell_type": "code",
   "execution_count": 3,
   "metadata": {},
   "outputs": [
    {
     "name": "stdout",
     "output_type": "stream",
     "text": [
      "Folder already exists\n"
     ]
    }
   ],
   "source": [
    "# set here the path where you want the scrapped folders to be saved!\n",
    "poster_folder = 'posters_final/'\n",
    "if poster_folder.split('/')[0] in os.listdir('./'):\n",
    "    print('Folder already exists')\n",
    "else:\n",
    "    os.mkdir('./' + poster_folder)\n",
    "    print('Folder Created')"
   ]
  },
  {
   "cell_type": "code",
   "execution_count": 4,
   "metadata": {
    "collapsed": true
   },
   "outputs": [],
   "source": [
    "# For the purpose of this example, i will be working with the 1999 Sci-Fi movie - \"The Matrix\"!\n",
    "#Enter your own API key here to run the code below. \n",
    "api_key='ced76d9cf645f6f902af7d092bdcacfe'\n",
    "\n",
    "tmdb.API_KEY = api_key\n",
    "\n",
    "#this instantiates a tmdb \"search\" object which allows your to search for the movie\n",
    "search = tmdb.Search() \n"
   ]
  },
  {
   "cell_type": "code",
   "execution_count": 5,
   "metadata": {
    "collapsed": true
   },
   "outputs": [],
   "source": [
    "# Functions goes here\n",
    "def grab_poster_tmdb(movie):\n",
    "    response = search.movie(query=movie)\n",
    "    id=response['results'][0]['id']\n",
    "    movie = tmdb.Movies(id)\n",
    "    posterp=movie.info()['poster_path']\n",
    "    title=movie.info()['original_title']\n",
    "    url='image.tmdb.org/t/p/original'+posterp\n",
    "    title='_'.join(title.split(' '))\n",
    "    strcmd='wget -O '+poster_folder+title+'.jpg '+url\n",
    "    os.system(strcmd)\n",
    "    #print(response['results'])\n",
    "    \n",
    "def get_movie_id_tmdb(movie):\n",
    "    response = search.movie(query=movie)\n",
    "    movie_id=response['results'][0]['id']\n",
    "    return movie_id\n",
    "\n",
    "def get_movie_info_tmdb(movie):\n",
    "    response = search.movie(query=movie)\n",
    "    movie_id=response['results'][0]['id']\n",
    "    movie=tmdb.Movies(movie_id)\n",
    "    info = movie.info()\n",
    "    return info\n",
    "\n",
    "def get_movie_genres_tmdb(movie):\n",
    "    response=search.movie(query=movie)\n",
    "    id=response['results'][0]['id']\n",
    "    movie=tmdb.Movies(id)\n",
    "    genres=movie.info()['genres']\n",
    "    return genres\n",
    "\n",
    "\n",
    "    "
   ]
  },
  {
   "cell_type": "markdown",
   "metadata": {},
   "source": [
    "While the above functions have been made to make it easy to get genres, posters and ID, all the information that can be accessed can be seen by calling the function get_movie_info() as shown below.\n"
   ]
  },
  {
   "cell_type": "code",
   "execution_count": 6,
   "metadata": {},
   "outputs": [
    {
     "name": "stdout",
     "output_type": "stream",
     "text": [
      "[{u'id': 18, u'name': u'Drama'}]\n",
      "[{u'id': 28, u'name': u'Action'}, {u'id': 878, u'name': u'Science Fiction'}]\n"
     ]
    }
   ],
   "source": [
    "print get_movie_genres_tmdb('Fight club')\n",
    "print get_movie_genres_tmdb(\"The Matrix\")"
   ]
  },
  {
   "cell_type": "code",
   "execution_count": 7,
   "metadata": {},
   "outputs": [
    {
     "name": "stdout",
     "output_type": "stream",
     "text": [
      "All the Movie information from TMDB gets stored in a dictionary with the following keys for easy access -\n"
     ]
    },
    {
     "data": {
      "text/plain": [
       "[u'poster_path',\n",
       " u'production_countries',\n",
       " u'revenue',\n",
       " u'overview',\n",
       " u'video',\n",
       " u'id',\n",
       " u'genres',\n",
       " u'title',\n",
       " u'tagline',\n",
       " u'vote_count',\n",
       " u'homepage',\n",
       " u'belongs_to_collection',\n",
       " u'original_language',\n",
       " u'status',\n",
       " u'spoken_languages',\n",
       " u'imdb_id',\n",
       " u'adult',\n",
       " u'backdrop_path',\n",
       " u'production_companies',\n",
       " u'release_date',\n",
       " u'popularity',\n",
       " u'original_title',\n",
       " u'budget',\n",
       " u'vote_average',\n",
       " u'runtime']"
      ]
     },
     "execution_count": 7,
     "metadata": {},
     "output_type": "execute_result"
    }
   ],
   "source": [
    "info=get_movie_info_tmdb(\"The Matrix\")\n",
    "print \"All the Movie information from TMDB gets stored in a dictionary with the following keys for easy access -\"\n",
    "info.keys()"
   ]
  },
  {
   "cell_type": "markdown",
   "metadata": {},
   "source": [
    "So, to get the tagline of the movie we can use the above dictionary key -"
   ]
  },
  {
   "cell_type": "code",
   "execution_count": 8,
   "metadata": {},
   "outputs": [
    {
     "name": "stdout",
     "output_type": "stream",
     "text": [
      "Matrix Tag Line:Welcome to the Real World.\n"
     ]
    }
   ],
   "source": [
    "print('Matrix Tag Line:' + info['tagline'])"
   ]
  },
  {
   "cell_type": "markdown",
   "metadata": {},
   "source": [
    "### Time to get movie information from IMDB\n",
    "Now that we know how to get information from TMDB, here's how we can get information about the same movie from imdb. This makes it possible for us to combine more information, and get a richer dataset. I urge you to try and see what dataset you can make, and go above and beyond the basic things I've done in this tutorial. Due to the differences between the two datasets, you will have to do some cleaning, however both of these datasets are extremely clean and it will be minimal."
   ]
  },
  {
   "cell_type": "code",
   "execution_count": 9,
   "metadata": {},
   "outputs": [
    {
     "name": "stdout",
     "output_type": "stream",
     "text": [
      "All the information we can get about this movie from IMDB-\n"
     ]
    },
    {
     "data": {
      "text/plain": [
       "[u'music department',\n",
       " 'sound crew',\n",
       " 'camera and electrical department',\n",
       " u'distributors',\n",
       " 'rating',\n",
       " 'runtimes',\n",
       " 'costume designer',\n",
       " 'make up',\n",
       " 'year',\n",
       " 'production design',\n",
       " 'miscellaneous crew',\n",
       " 'color info',\n",
       " u'casting department',\n",
       " 'languages',\n",
       " 'votes',\n",
       " 'producer',\n",
       " 'title',\n",
       " 'mpaa',\n",
       " 'assistant director',\n",
       " 'writer',\n",
       " 'production manager',\n",
       " 'casting director',\n",
       " 'visual effects',\n",
       " 'top 250 rank',\n",
       " 'set decoration',\n",
       " 'editor',\n",
       " 'certificates',\n",
       " u'costume department',\n",
       " 'country codes',\n",
       " 'language codes',\n",
       " 'cover url',\n",
       " u'special effects department',\n",
       " 'special effects companies',\n",
       " 'sound mix',\n",
       " u'location management',\n",
       " 'genres',\n",
       " 'director',\n",
       " 'stunt performer',\n",
       " 'miscellaneous companies',\n",
       " 'cinematographer',\n",
       " 'art direction',\n",
       " 'akas',\n",
       " 'aspect ratio',\n",
       " u'production companies',\n",
       " 'kind',\n",
       " u'art department',\n",
       " 'countries',\n",
       " u'transportation department',\n",
       " 'plot outline',\n",
       " 'plot',\n",
       " 'cast',\n",
       " u'animation department',\n",
       " 'original music',\n",
       " u'editorial department',\n",
       " 'canonical title',\n",
       " 'long imdb title',\n",
       " 'long imdb canonical title',\n",
       " 'smart canonical title',\n",
       " 'smart long imdb canonical title',\n",
       " 'full-size cover url']"
      ]
     },
     "execution_count": 9,
     "metadata": {},
     "output_type": "execute_result"
    }
   ],
   "source": [
    "# Create the IMDB object that will be used to access the IMDb's database\n",
    "imdb_object = imdb.IMDb() #by default access the web\n",
    "\n",
    "# Search for a movie (get a list of Movie Objects)\n",
    "results = imdb_object.search_movie('The Matrix')\n",
    "\n",
    "# As this returns a list of all movies containing the word \"The Matrix\", we pick the first element\n",
    "\n",
    "movie = results[0]\n",
    "imdb_object.update(movie)\n",
    "\n",
    "print \"All the information we can get about this movie from IMDB-\"\n",
    "movie.keys()\n",
    "\n",
    "\n"
   ]
  },
  {
   "cell_type": "code",
   "execution_count": 10,
   "metadata": {},
   "outputs": [
    {
     "name": "stdout",
     "output_type": "stream",
     "text": [
      "The genres associated with the movie are -  [u'Action', u'Sci-Fi']\n"
     ]
    }
   ],
   "source": [
    "print \"The genres associated with the movie are - \",movie['genres']"
   ]
  },
  {
   "cell_type": "markdown",
   "metadata": {},
   "source": [
    "#### A small comparison of IMDB and TMDB \n",
    "Now we have both IMDB and TMDB lets compare them for the same movie"
   ]
  },
  {
   "cell_type": "code",
   "execution_count": 11,
   "metadata": {},
   "outputs": [
    {
     "name": "stdout",
     "output_type": "stream",
     "text": [
      "('The genres for THE MATRIX using IMDB -', [u'Action', u'Sci-Fi'])\n",
      "('The genres for THE MATRIX using TMDB -', [{u'id': 28, u'name': u'Action'}, {u'id': 878, u'name': u'Science Fiction'}])\n"
     ]
    }
   ],
   "source": [
    "print (\"The genres for THE MATRIX using IMDB -\",movie['genres'])\n",
    " \n",
    "print (\"The genres for THE MATRIX using TMDB -\",get_movie_genres_tmdb(\"The Matrix\"))"
   ]
  },
  {
   "cell_type": "markdown",
   "metadata": {},
   "source": [
    "As we can see, both the systems are correct, but the way they package information is different. TMDB calls it \"Science Fiction\" and has an ID for every genre. While IMDB calls it \"Sci-Fi\". Thus, it is important to keep track of these things when making use of both the datasets simultaneously.\n",
    "Now that we know how to scrape information for one movie, let's take a bigger step towards scraping multiple movies?"
   ]
  },
  {
   "cell_type": "markdown",
   "metadata": {},
   "source": [
    "#### Working with multiple movies : Obtaining Top 20 movies from TMDB\n",
    "We first instantiate an object that inherits from class Movies from TMDB. Then We use the popular() class method (i.e. function) to get top movies. To get more than one page of results, the optional page argument lets us see movies from any specified page number."
   ]
  },
  {
   "cell_type": "code",
   "execution_count": 12,
   "metadata": {},
   "outputs": [
    {
     "name": "stdout",
     "output_type": "stream",
     "text": [
      "20\n"
     ]
    }
   ],
   "source": [
    "all_movies = tmdb.Movies()\n",
    "top_movies=all_movies.popular()\n",
    "\n",
    "print(len(top_movies['results']))\n",
    "top20_movs = top_movies['results']"
   ]
  },
  {
   "cell_type": "code",
   "execution_count": 13,
   "metadata": {},
   "outputs": [
    {
     "name": "stdout",
     "output_type": "stream",
     "text": [
      "Despicable Me 3\n",
      "Beauty and the Beast\n",
      "Dawn of the Planet of the Apes\n",
      "Spider-Man: Homecoming\n",
      "War for the Planet of the Apes\n"
     ]
    }
   ],
   "source": [
    "for i in range(len(top20_movs)):\n",
    "    mov=top20_movs[i]\n",
    "    title = mov['title']\n",
    "    print (title)\n",
    "    if i == 4:\n",
    "        break"
   ]
  },
  {
   "cell_type": "code",
   "execution_count": 14,
   "metadata": {},
   "outputs": [
    {
     "name": "stdout",
     "output_type": "stream",
     "text": [
      "[12, 16, 35, 10751]\n",
      "[10751, 14, 10749]\n",
      "[878, 28, 18, 53]\n",
      "[28, 12, 878]\n",
      "[28, 12, 18, 878]\n"
     ]
    }
   ],
   "source": [
    "for i in range(len(top20_movs)):\n",
    "    mov=top20_movs[i]\n",
    "    genre = mov['genre_ids']\n",
    "    print (genre)\n",
    "    if i == 4:\n",
    "        break"
   ]
  },
  {
   "cell_type": "code",
   "execution_count": 15,
   "metadata": {
    "collapsed": true
   },
   "outputs": [],
   "source": [
    "#Create a tmdb genre object!\n",
    "genres=tmdb.Genres()\n",
    "\n",
    "list_of_genres=genres.list()['genres']\n",
    "#print(list_of_genres)\n",
    "\n",
    "\n",
    "Genre_ID_to_name={}\n",
    "for i in range(len(list_of_genres)):\n",
    "    genre_id=list_of_genres[i]['id']\n",
    "    genre_name=list_of_genres[i]['name']\n",
    "    Genre_ID_to_name[genre_id]=genre_name\n",
    "    "
   ]
  },
  {
   "cell_type": "code",
   "execution_count": 16,
   "metadata": {},
   "outputs": [
    {
     "name": "stdout",
     "output_type": "stream",
     "text": [
      "Despicable Me 3 [u'Adventure', u'Animation', u'Comedy', u'Family']\n",
      "Beauty and the Beast [u'Family', u'Fantasy', u'Romance']\n",
      "Dawn of the Planet of the Apes [u'Science Fiction', u'Action', u'Drama', u'Thriller']\n",
      "Spider-Man: Homecoming [u'Action', u'Adventure', u'Science Fiction']\n",
      "War for the Planet of the Apes [u'Action', u'Adventure', u'Drama', u'Science Fiction']\n"
     ]
    }
   ],
   "source": [
    "for i in range(len(top20_movs)):\n",
    "    mov=top20_movs[i]\n",
    "    title=mov['title']\n",
    "    genre = mov['genre_ids']\n",
    "    genre_names = []\n",
    "    for id in genre:\n",
    "        genre_name=Genre_ID_to_name[id]\n",
    "        genre_names.append(genre_name)\n",
    "    print title, genre_names\n",
    "    if i == 4:\n",
    "        break;"
   ]
  },
  {
   "cell_type": "markdown",
   "metadata": {},
   "source": [
    "### Building a dataset to work with: Let's take a look at the top 1000 movies from the database\n",
    "Making use of the same api as before, we will just pull results from the top 50 pages. As mentioned earler, the \"page\" attribute of the command top_movies=all_movies.popilar() can be used for this purpose."
   ]
  },
  {
   "cell_type": "code",
   "execution_count": 17,
   "metadata": {
    "collapsed": true
   },
   "outputs": [],
   "source": [
    "all_movies=tmdb.Movies()\n",
    "top_movies=all_movies.popular()\n",
    "\n",
    "#print(top_movies)\n",
    "len(top_movies['results'])\n",
    "top20_movs=top_movies['results']\n"
   ]
  },
  {
   "cell_type": "code",
   "execution_count": 18,
   "metadata": {},
   "outputs": [
    {
     "name": "stdout",
     "output_type": "stream",
     "text": [
      "Pulling movie list, Please wait...\n",
      "1000\n",
      "Done!\n"
     ]
    }
   ],
   "source": [
    "#Comment this code\n",
    "#Saving data in the file\n",
    "#all_movies=tmdb.Movies()\n",
    "#top1000_movies=[]\n",
    "#print('Pulling movie list, Please wait...')\n",
    "\n",
    "#for i in range(1,51):\n",
    "#    if i%15 == 0:\n",
    "#        time.sleep(7)\n",
    "#    movies_on_this_page=all_movies.popular(page=i)['results']\n",
    "#    top1000_movies.extend(movies_on_this_page)\n",
    "#print(len(top1000_movies))\n",
    "#f3 = open('movie_list.pckl','wb')\n",
    "#pickle.dump(top1000_movies,f3)\n",
    "#f3.close()\n",
    "print('Done!')\n",
    "            "
   ]
  },
  {
   "cell_type": "code",
   "execution_count": 19,
   "metadata": {},
   "outputs": [
    {
     "name": "stdout",
     "output_type": "stream",
     "text": [
      "1000\n"
     ]
    }
   ],
   "source": [
    "f3=open('movie_list.pckl','rb')\n",
    "top1000_movies=pickle.load(f3)\n",
    "f3.close()\n",
    "print(len(top1000_movies))"
   ]
  },
  {
   "cell_type": "markdown",
   "metadata": {},
   "source": [
    "### Pairwise analysis of Movie Genres\n",
    "As our dataset is multi-label, simply looking at the distribution of genres is not sufficient. It might be beneficial to see which genres co-occur, as it might shed some light on inherent biases in our dataset. \n",
    "So for the top 1000 movies let's do some pairwise analysis for genre distributions. Our main purpose is to see which genres occur together in the same movie. So, we first define a function which takes a list and makes all possible pairs from it. Then, we pull the list of genres for a movie and run this function on the list of genres to get all pairs of genres which occur together.\n"
   ]
  },
  {
   "cell_type": "code",
   "execution_count": 35,
   "metadata": {},
   "outputs": [],
   "source": [
    "# Generates all possible pairs of movies \n",
    "def list2pairs(l):\n",
    "    # itertools.combinations(1,2) makes all pairs of length 2 from list l.\n",
    "    pairs=list(itertools.combinations(l,2))\n",
    "    # then the one item pairs, as duplicate pairs aren't accounted for by itertools\n",
    "    for i in l:\n",
    "        pairs.append([i,i])\n",
    "    return pairs"
   ]
  },
  {
   "cell_type": "markdown",
   "metadata": {},
   "source": [
    "As mentioned, now we will pull genres for each movie, and use above function to count occurrences of when two genres occurred together"
   ]
  },
  {
   "cell_type": "code",
   "execution_count": 46,
   "metadata": {},
   "outputs": [],
   "source": [
    "# get all genre list\n",
    "allPairs =[]\n",
    "for movie in top1000_movies:\n",
    "    allPairs.extend(list2pairs(movie['genre_ids']))\n",
    "\n",
    "nr_ids = np.unique(allPairs)\n",
    "visGrid = np.zeros((len(nr_ids), len(nr_ids)))\n",
    "for p in allPairs:\n",
    "    visGrid[np.argwhere(nr_ids==p[0]), np.argwhere(nr_ids==p[1])]+=1\n",
    "    if p[1] != p[0]:\n",
    "        visGrid[np.argwhere(nr_ids==p[1]), np.argwhere(nr_ids==p[0])]+=1\n"
   ]
  },
  {
   "cell_type": "markdown",
   "metadata": {},
   "source": [
    "Let's take a look at the structure we just made. It is a 19X19 structure, as shown below. Also, see that we had 19 Genres. Needless to say, this structure counts the number of simultaneous occurrences of genres in same movie."
   ]
  },
  {
   "cell_type": "code",
   "execution_count": 52,
   "metadata": {},
   "outputs": [
    {
     "name": "stdout",
     "output_type": "stream",
     "text": [
      "(19, 19)\n",
      "19\n"
     ]
    }
   ],
   "source": [
    "print (visGrid.shape)\n",
    "print(len(Genre_ID_to_name.keys()))"
   ]
  },
  {
   "cell_type": "code",
   "execution_count": 58,
   "metadata": {},
   "outputs": [
    {
     "data": {
      "text/plain": [
       "<matplotlib.axes._subplots.AxesSubplot at 0x7fc19b9baa50>"
      ]
     },
     "execution_count": 58,
     "metadata": {},
     "output_type": "execute_result"
    },
    {
     "data": {
      "image/png": "[encoded data removed]",
      "text/plain": [
       "<matplotlib.figure.Figure at 0x7fc19b9d0050>"
      ]
     },
     "metadata": {},
     "output_type": "display_data"
    }
   ],
   "source": [
    "annot_lookup=[]\n",
    "for i in xrange(len(nr_ids)):\n",
    "    annot_lookup.append(Genre_ID_to_name[nr_ids[i]])\n",
    "\n",
    "sns.heatmap(visGrid,xticklabels=annot_lookup,yticklabels=annot_lookup)"
   ]
  },
  {
   "cell_type": "markdown",
   "metadata": {},
   "source": [
    "The above image shows how often the genres occur together, as a heatmap\n",
    "Important thing to notice in the above plot is the diagonal. The diagonal corresponds to self-pairs, i.e. number of times a genre, say Drama occurred with Drama. Which is basically just a count of the total times that genre occurred!\n",
    "As we can see there are a lot of dramas in the data set, it is also a very unspecific label. There are nearly no documentaries or TV Movies. Horror is a very distinct label, and romance is also not too widely spread.\n",
    "To account for this unbalanced data, there are multiple things we can try to explore what interesting relationships can be found."
   ]
  },
  {
   "cell_type": "code",
   "execution_count": 60,
   "metadata": {
    "collapsed": true
   },
   "outputs": [],
   "source": [
    "from sklearn.cluster import SpectralCoclustering"
   ]
  },
  {
   "cell_type": "code",
   "execution_count": 68,
   "metadata": {},
   "outputs": [
    {
     "data": {
      "image/png": "[encoded data removed]",
      "text/plain": [
       "<matplotlib.figure.Figure at 0x7fc19e671e10>"
      ]
     },
     "metadata": {},
     "output_type": "display_data"
    }
   ],
   "source": [
    "model = SpectralCoclustering(n_clusters=5)\n",
    "model.fit(visGrid)\n",
    "fit_data = visGrid[np.argsort(model.row_labels_)]\n",
    "fit_data = fit_data[:,np.argsort(model.column_labels_)]\n",
    "\n",
    "annot_lookup_sorted =[]\n",
    "for i in np.argsort(model.row_labels_):\n",
    "    annot_lookup_sorted.append(Genre_ID_to_name[nr_ids[i]])\n",
    "\n",
    "sns.heatmap(fit_data,xticklabels=annot_lookup_sorted,yticklabels=annot_lookup_sorted, annot=False)\n",
    "plt.title(\"After biclustering; rearranged to show biclusters\")\n",
    "\n",
    "plt.show()"
   ]
  },
  {
   "cell_type": "markdown",
   "metadata": {},
   "source": [
    "Looking at the above figure, \"boxes\" or groups of movie genres automatically emerge!\n",
    "Intuitively - Sci-Fic, Adventure, Action,Comedy, Family, Drama, Thriller, etc co-occur. AND, Comedy, Animation,Fantasy, Action etc co-occur.\n",
    "That makes a lot of intuitive sense, right?\n",
    "One challenge is the broad range of the drama genre. It makes the two clusters highly overlapping. If we merge it together with action thriller, etc. We will end up with nearly all movies just having that label.\n",
    "\n",
    "**Based on playing around with the stuff above, we can sort the data into the following genre categories - \"Drama, Action, ScienceFiction, exciting(thriller, crime, mystery), uplifting(adventure, fantasy, animation, comedy, romance, family), Horror, History\"**\n",
    "\n",
    "Note: that this categorization is subjective and by no means the only right solution. One could also just stay with the original labels and only exclude the ones with not enough data. Such tricks are important to balance the dataset, it allows us to increase or decrease the strength of certain signals, making it possible to improve our inferences :)"
   ]
  },
  {
   "cell_type": "code",
   "execution_count": null,
   "metadata": {
    "collapsed": true
   },
   "outputs": [],
   "source": []
  }
 ],
 "metadata": {
  "kernelspec": {
   "display_name": "Python 2",
   "language": "python",
   "name": "python2"
  },
  "language_info": {
   "codemirror_mode": {
    "name": "ipython",
    "version": 2
   },
   "file_extension": ".py",
   "mimetype": "text/x-python",
   "name": "python",
   "nbconvert_exporter": "python",
   "pygments_lexer": "ipython2",
   "version": "2.7.13"
  }
 },
 "nbformat": 4,
 "nbformat_minor": 2
}
